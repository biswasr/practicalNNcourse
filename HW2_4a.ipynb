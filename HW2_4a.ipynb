{
 "cells": [
  {
   "cell_type": "code",
   "execution_count": 2,
   "metadata": {},
   "outputs": [],
   "source": [
    "import numpy as np\n",
    "import matplotlib.pyplot as plt\n",
    "from random import shuffle\n",
    "from tqdm import tqdm\n",
    "import pickle\n",
    "import os\n",
    "import cv2\n",
    "import timeit\n",
    "from glob import glob\n",
    "from scipy import misc"
   ]
  },
  {
   "cell_type": "code",
   "execution_count": 3,
   "metadata": {},
   "outputs": [],
   "source": [
    "train_dir = 'train/'\n",
    "test_dir = 'test1/'"
   ]
  },
  {
   "cell_type": "code",
   "execution_count": 4,
   "metadata": {},
   "outputs": [],
   "source": [
    "def create_train_data():\n",
    "    train_images = []\n",
    "    train_labels = []\n",
    "\n",
    "    # Dogs train\n",
    "    for file in tqdm(os.listdir(train_dir)):\n",
    "        img = cv2.imread(train_dir+file)\n",
    "        img = cv2.resize(img, (227, 227))\n",
    "        train_images.append(img)\n",
    "        word_label = file.split('.')[-3]\n",
    "        if word_label == 'cat': train_labels.append([0,1])\n",
    "        elif word_label == 'dog': train_labels.append([1, 0])\n",
    "    perm = np.random.permutation(len(train_images))\n",
    "    train_images = np.array(train_images)[perm]\n",
    "    train_labels = np.array(train_labels)[perm]\n",
    "    print(train_images.shape, train_labels.shape)\n",
    "\n",
    "    return train_images, train_labels\n"
   ]
  },
  {
   "cell_type": "code",
   "execution_count": 5,
   "metadata": {},
   "outputs": [],
   "source": [
    "def create_test_data():\n",
    "    test_images = []\n",
    "    for file in tqdm(os.listdir(test_dir)):\n",
    "        img = cv2.imread(test_dir+file)\n",
    "        img = cv2.resize(img, (227, 227))\n",
    "        test_images.append(img)\n",
    "    perm = np.random.permutation(len(test_images))\n",
    "    test_images=np.array(test_images)[perm]\n",
    "    return test_images"
   ]
  },
  {
   "cell_type": "code",
   "execution_count": 6,
   "metadata": {},
   "outputs": [
    {
     "name": "stderr",
     "output_type": "stream",
     "text": [
      "100%|██████████| 25000/25000 [01:36<00:00, 258.93it/s]\n"
     ]
    },
    {
     "name": "stdout",
     "output_type": "stream",
     "text": [
      "(25000, 227, 227, 3) (25000, 2)\n"
     ]
    }
   ],
   "source": [
    "train_data = create_train_data()"
   ]
  },
  {
   "cell_type": "code",
   "execution_count": 7,
   "metadata": {},
   "outputs": [
    {
     "name": "stderr",
     "output_type": "stream",
     "text": [
      "100%|██████████| 12500/12500 [00:43<00:00, 284.70it/s]\n"
     ]
    }
   ],
   "source": [
    "test_data = create_test_data()"
   ]
  },
  {
   "cell_type": "code",
   "execution_count": 8,
   "metadata": {},
   "outputs": [],
   "source": [
    "validation_data=(train_data[0][:500],train_data[1][:500])"
   ]
  },
  {
   "cell_type": "code",
   "execution_count": 9,
   "metadata": {},
   "outputs": [],
   "source": [
    "training_data=(train_data[0][500:],train_data[1][500:])"
   ]
  },
  {
   "cell_type": "code",
   "execution_count": 10,
   "metadata": {},
   "outputs": [
    {
     "data": {
      "text/plain": [
       "(24500, 2)"
      ]
     },
     "execution_count": 10,
     "metadata": {},
     "output_type": "execute_result"
    }
   ],
   "source": [
    "training_data[1].shape"
   ]
  },
  {
   "cell_type": "code",
   "execution_count": 11,
   "metadata": {},
   "outputs": [],
   "source": [
    "testing_data=test_data"
   ]
  },
  {
   "cell_type": "code",
   "execution_count": 12,
   "metadata": {},
   "outputs": [],
   "source": [
    "with open('4training_data.pkl', 'wb') as f:\n",
    "        pickle.dump(training_data, f)\n"
   ]
  },
  {
   "cell_type": "code",
   "execution_count": 13,
   "metadata": {},
   "outputs": [],
   "source": [
    "with open('4validation_data.pkl', 'wb') as f:\n",
    "        pickle.dump(validation_data, f)\n",
    "with open('4testing_data.pkl', 'wb') as f:\n",
    "        pickle.dump(testing_data, f)"
   ]
  },
  {
   "cell_type": "code",
   "execution_count": null,
   "metadata": {},
   "outputs": [],
   "source": []
  }
 ],
 "metadata": {
  "kernelspec": {
   "display_name": "Python 3",
   "language": "python",
   "name": "python3"
  },
  "language_info": {
   "codemirror_mode": {
    "name": "ipython",
    "version": 3
   },
   "file_extension": ".py",
   "mimetype": "text/x-python",
   "name": "python",
   "nbconvert_exporter": "python",
   "pygments_lexer": "ipython3",
   "version": "3.7.3"
  }
 },
 "nbformat": 4,
 "nbformat_minor": 2
}
