{
 "cells": [
  {
   "cell_type": "code",
   "execution_count": 1,
   "metadata": {},
   "outputs": [],
   "source": [
    "import tensorflow as tf\n",
    "import numpy as np\n",
    "import pickle\n",
    "import matplotlib.pyplot as plt\n",
    "import timeit"
   ]
  },
  {
   "cell_type": "code",
   "execution_count": 2,
   "metadata": {},
   "outputs": [],
   "source": [
    "training_data=pickle.load(open('4training_data.pkl','rb'))\n",
    "validation_data=pickle.load(open('4validation_data.pkl','rb'))\n",
    "testing_data=pickle.load(open('4testing_data.pkl','rb'))"
   ]
  },
  {
   "cell_type": "code",
   "execution_count": 3,
   "metadata": {},
   "outputs": [],
   "source": [
    "tf.reset_default_graph()"
   ]
  },
  {
   "cell_type": "code",
   "execution_count": 4,
   "metadata": {},
   "outputs": [],
   "source": [
    "def instintiate_weights(key, shape):\n",
    "    return tf.get_variable(key,shape=shape,initializer=tf.contrib.layers.variance_scaling_initializer(factor=2.0,mode='FAN_IN',uniform=False,seed=None,dtype=tf.float32))\n",
    "def instintiate_bias(key, shape):\n",
    "    return tf.Variable(tf.constant(0.1, dtype=tf.float32, shape=shape))"
   ]
  },
  {
   "cell_type": "code",
   "execution_count": 5,
   "metadata": {},
   "outputs": [],
   "source": [
    "batch_size = 32\n",
    "epochs = 100"
   ]
  },
  {
   "cell_type": "code",
   "execution_count": null,
   "metadata": {},
   "outputs": [],
   "source": [
    "def alex_net(images, num_classes):\n",
    "\n",
    "        # Layer 1\n",
    "        with tf.name_scope(\"conv1\") as scope:\n",
    "            kernel = instintiate_weights('W1', [11, 11, 3, 96])\n",
    "            conv = tf.nn.conv2d(images, kernel, [1, 4, 4, 1], padding='SAME')\n",
    "            biases = instintiate_bias('b1', [96])\n",
    "            conv1 = tf.nn.relu(tf.nn.bias_add(conv, biases), name=scope)\n",
    "\n",
    "        with tf.name_scope('pool1') as scope:\n",
    "            pool1 = tf.nn.max_pool(conv1, [1, 3, 3, 1], [1, 2, 2, 1], padding='SAME', name=scope)\n",
    "\n",
    "        # Layer 2\n",
    "        with tf.name_scope(\"conv2\") as scope:\n",
    "            kernel = instintiate_weights('W2', [5, 5, 96, 256])\n",
    "            conv = tf.nn.conv2d(pool1, kernel, [1, 1, 1, 1], padding='SAME')\n",
    "            biases = instintiate_bias('b2', [256])\n",
    "            conv2 = tf.nn.relu(tf.nn.bias_add(conv, biases), name=scope)\n",
    "\n",
    "        with tf.name_scope('pool2') as scope:\n",
    "            pool2 = tf.nn.max_pool(conv2, [1, 3, 3, 1], [1, 2, 2, 1], padding='SAME', name=scope)\n",
    "\n",
    "        # Layer 3\n",
    "        with tf.name_scope(\"conv3\") as scope:\n",
    "            kernel = instintiate_weights('W3', [3, 3, 256, 384])\n",
    "            conv = tf.nn.conv2d(pool2, kernel, [1, 1, 1, 1], padding='SAME')\n",
    "            biases = instintiate_bias('b3', [384])\n",
    "            conv3 = tf.nn.relu(tf.nn.bias_add(conv, biases), name=scope)\n",
    "        # Layer 4\n",
    "        with tf.name_scope(\"conv4\") as scope:\n",
    "            kernel = instintiate_weights('W4', [3, 3, 384, 384])\n",
    "            conv = tf.nn.conv2d(conv3, kernel, [1, 1, 1, 1], padding='SAME')\n",
    "            biases = instintiate_bias('b4', [384])\n",
    "            conv4 = tf.nn.relu(tf.nn.bias_add(conv, biases), name=scope)\n",
    "\n",
    "        # Layer 5\n",
    "        with tf.name_scope(\"conv5\") as scope:\n",
    "            kernel = instintiate_weights('W5', [3, 3, 384, 256])\n",
    "            conv = tf.nn.conv2d(conv4, kernel, [1, 1, 1, 1], padding='SAME')\n",
    "            biases = instintiate_bias('b5', [256])\n",
    "            conv5 = tf.nn.relu(tf.nn.bias_add(conv, biases), name=scope)\n",
    "\n",
    "        with tf.name_scope('pool5') as scope:\n",
    "            pool5 = tf.nn.max_pool(conv5, [1, 3, 3, 1], [1, 2, 2, 1], padding='SAME', name=scope)\n",
    "\n",
    "        # Fully Connected 6\n",
    "        with tf.name_scope('FC6') as scope:\n",
    "            pool5_flat = tf.contrib.layers.flatten(pool5)\n",
    "            fc6 = tf.layers.dense(pool5_flat, units=4096, activation=tf.nn.relu, name=scope)\n",
    "            # fc6_dropout = tf.layers.dropout(fc6, 0.5)\n",
    "\n",
    "        with tf.name_scope('FC7') as scope:\n",
    "            fc7 = tf.layers.dense(fc6, units=4096, activation=tf.nn.relu, name=scope)\n",
    "            # fc7_dropout = tf.layers.dropout(fc7, 0.5)\n",
    "\n",
    "        with tf.name_scope('classes') as scope:\n",
    "            predictions = tf.layers.dense(fc7, units=num_classes, activation=tf.nn.softmax, name=scope)\n",
    "\n",
    "        return predictions"
   ]
  },
  {
   "cell_type": "code",
   "execution_count": null,
   "metadata": {},
   "outputs": [
    {
     "name": "stdout",
     "output_type": "stream",
     "text": [
      "\n",
      "WARNING: The TensorFlow contrib module will not be included in TensorFlow 2.0.\n",
      "For more information, please see:\n",
      "  * https://github.com/tensorflow/community/blob/master/rfcs/20180907-contrib-sunset.md\n",
      "  * https://github.com/tensorflow/addons\n",
      "If you depend on functionality not listed there, please file an issue.\n",
      "\n",
      "WARNING:tensorflow:From /anaconda2/envs/practicalnn_course/lib/python3.7/site-packages/tensorflow/python/framework/op_def_library.py:263: colocate_with (from tensorflow.python.framework.ops) is deprecated and will be removed in a future version.\n",
      "Instructions for updating:\n",
      "Colocations handled automatically by placer.\n",
      "WARNING:tensorflow:From /anaconda2/envs/practicalnn_course/lib/python3.7/site-packages/tensorflow/contrib/layers/python/layers/layers.py:1624: flatten (from tensorflow.python.layers.core) is deprecated and will be removed in a future version.\n",
      "Instructions for updating:\n",
      "Use keras.layers.flatten instead.\n",
      "WARNING:tensorflow:From <ipython-input-6-c7b3a7635bfb>:70: dense (from tensorflow.python.layers.core) is deprecated and will be removed in a future version.\n",
      "Instructions for updating:\n",
      "Use keras.layers.dense instead.\n",
      "WARNING:tensorflow:From /anaconda2/envs/practicalnn_course/lib/python3.7/site-packages/tensorflow/python/ops/math_ops.py:3066: to_int32 (from tensorflow.python.ops.math_ops) is deprecated and will be removed in a future version.\n",
      "Instructions for updating:\n",
      "Use tf.cast instead.\n"
     ]
    }
   ],
   "source": [
    "train_images = training_data[0]\n",
    "train_labels = training_data[1]\n",
    "valid_images = validation_data[0]\n",
    "valid_labels = validation_data[1]\n",
    "\n",
    "num_classes = train_labels.shape[1]\n",
    "images = tf.placeholder(tf.float32, shape=[None, *train_images[0].shape])\n",
    "labels = tf.placeholder(tf.float32, shape=[None, 2])\n",
    "\n",
    "predictions = alex_net(images, num_classes)\n",
    "init = tf.global_variables_initializer()\n",
    "\n",
    "loss = tf.nn.l2_loss(tf.square(predictions - labels))\n",
    "learner = tf.train.GradientDescentOptimizer(0.0001)\n",
    "optimizer = learner.minimize(loss)\n",
    "\n",
    "correct_prediction = tf.equal(tf.argmax(predictions, 1), tf.argmax(labels, 1))\n",
    "accuracy = tf.reduce_mean(tf.cast(correct_prediction, tf.float32))\n",
    "\n",
    "with tf.Session() as sess:\n",
    "    sess.run(init)\n",
    "    for _ in range(epochs):\n",
    "        l_total = 0\n",
    "        acc = 0\n",
    "        for i in range(0, len(train_images), batch_size):\n",
    "            l, acc, _ = sess.run(fetches=[loss, accuracy, optimizer],\n",
    "                                 feed_dict={images: train_images[i: batch_size + i],\n",
    "                                            labels: train_labels[i: batch_size + i]})\n",
    "            l_total += np.sum(l)\n",
    "\n",
    "        print(l_total, acc)\n",
    "        val_acc, _ = sess.run([accuracy, predictions],\n",
    "                               feed_dict={images: valid_images, labels: valid_labels})\n",
    "        print(\"Validation accuracy: \", val_acc)\n"
   ]
  },
  {
   "cell_type": "code",
   "execution_count": 7,
   "metadata": {},
   "outputs": [
    {
     "data": {
      "text/plain": [
       "array([[0, 1],\n",
       "       [1, 0],\n",
       "       [1, 0],\n",
       "       ...,\n",
       "       [1, 0],\n",
       "       [0, 1],\n",
       "       [1, 0]])"
      ]
     },
     "execution_count": 7,
     "metadata": {},
     "output_type": "execute_result"
    }
   ],
   "source": []
  },
  {
   "cell_type": "code",
   "execution_count": null,
   "metadata": {},
   "outputs": [],
   "source": []
  }
 ],
 "metadata": {
  "kernelspec": {
   "display_name": "Python 3",
   "language": "python",
   "name": "python3"
  },
  "language_info": {
   "codemirror_mode": {
    "name": "ipython",
    "version": 3
   },
   "file_extension": ".py",
   "mimetype": "text/x-python",
   "name": "python",
   "nbconvert_exporter": "python",
   "pygments_lexer": "ipython3",
   "version": "3.7.3"
  }
 },
 "nbformat": 4,
 "nbformat_minor": 2
}
