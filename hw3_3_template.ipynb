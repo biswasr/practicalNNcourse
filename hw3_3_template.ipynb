{
 "cells": [
  {
   "cell_type": "code",
   "execution_count": 1,
   "metadata": {},
   "outputs": [
    {
     "data": {
      "text/html": [
       "<style>.container { width:100% !important; }</style>"
      ],
      "text/plain": [
       "<IPython.core.display.HTML object>"
      ]
     },
     "metadata": {},
     "output_type": "display_data"
    }
   ],
   "source": [
    "from IPython.core.display import display, HTML\n",
    "display(HTML(\"<style>.container { width:100% !important; }</style>\"))"
   ]
  },
  {
   "cell_type": "code",
   "execution_count": 2,
   "metadata": {},
   "outputs": [],
   "source": [
    "import numpy as np\n",
    "import matplotlib.pyplot as plt\n",
    "import pandas as pd\n",
    "import datetime\n",
    "from sklearn.preprocessing import MinMaxScaler\n",
    "import tensorflow as tf"
   ]
  },
  {
   "cell_type": "markdown",
   "metadata": {},
   "source": [
    "# Preprocess Data\n",
    "In the <b>HW3_template</b> folder you will find `TSLA.csv`, `GOOGL.csv` and `DJI.csv` files. Use Pandas (You have used it in HW1) to retrieve the dataset. Use only <b>Open</b> price as your input. (You will train three models for three different stocks, don't mix these data together!)"
   ]
  },
  {
   "cell_type": "code",
   "execution_count": 3,
   "metadata": {},
   "outputs": [],
   "source": [
    "df1 = pd.read_csv(\"TSLA.csv\", usecols = [1])\n",
    "df2 = pd.read_csv(\"GOOGL.csv\", usecols = [1])\n",
    "df3 = pd.read_csv(\"DJI.csv\", usecols = [1])"
   ]
  },
  {
   "cell_type": "code",
   "execution_count": 5,
   "metadata": {},
   "outputs": [
    {
     "data": {
      "text/plain": [
       "0        19.000000\n",
       "1        25.790001\n",
       "2        25.000000\n",
       "3        23.000000\n",
       "4        20.000000\n",
       "5        16.400000\n",
       "6        16.139999\n",
       "7        17.580000\n",
       "8        17.950001\n",
       "9        17.389999\n",
       "10       17.940001\n",
       "11       19.940001\n",
       "12       20.700001\n",
       "13       21.370001\n",
       "14       21.850000\n",
       "15       20.660000\n",
       "16       20.500000\n",
       "17       21.190001\n",
       "18       21.500000\n",
       "19       20.910000\n",
       "20       20.549999\n",
       "21       20.770000\n",
       "22       20.200001\n",
       "23       20.500000\n",
       "24       21.000000\n",
       "25       21.950001\n",
       "26       21.540001\n",
       "27       20.100000\n",
       "28       19.900000\n",
       "29       19.650000\n",
       "           ...    \n",
       "2197    272.579987\n",
       "2198    259.709991\n",
       "2199    264.440002\n",
       "2200    268.750000\n",
       "2201    277.160004\n",
       "2202    278.700012\n",
       "2203    282.619995\n",
       "2204    288.299988\n",
       "2205    287.320007\n",
       "2206    261.890015\n",
       "2207    269.859985\n",
       "2208    277.690002\n",
       "2209    271.649994\n",
       "2210    276.739990\n",
       "2211    268.299988\n",
       "2212    270.220001\n",
       "2213    268.630005\n",
       "2214    265.750000\n",
       "2215    274.750000\n",
       "2216    271.230011\n",
       "2217    269.000000\n",
       "2218    260.149994\n",
       "2219    263.850006\n",
       "2220    255.000000\n",
       "2221    246.500000\n",
       "2222    235.860001\n",
       "2223    242.059998\n",
       "2224    238.850006\n",
       "2225    245.520004\n",
       "2226    243.860001\n",
       "Name: Open, Length: 2227, dtype: float64"
      ]
     },
     "execution_count": 5,
     "metadata": {},
     "output_type": "execute_result"
    }
   ],
   "source": [
    "df['Open']"
   ]
  },
  {
   "cell_type": "markdown",
   "metadata": {},
   "source": [
    "## Normalize your data\n",
    "You could use `MinMaxScaler` in `sklearn.preprocessing` to normalize the data between 0 and 1."
   ]
  },
  {
   "cell_type": "code",
   "execution_count": 4,
   "metadata": {},
   "outputs": [],
   "source": [
    "min_max_scaler = MinMaxScaler()\n",
    "df1['Open'] = min_max_scaler.fit_transform(df1.Open.values.reshape(-1,1))\n",
    "df2['Open'] = min_max_scaler.fit_transform(df2.Open.values.reshape(-1,1))\n",
    "df3['Open'] = min_max_scaler.fit_transform(df3.Open.values.reshape(-1,1))"
   ]
  },
  {
   "cell_type": "markdown",
   "metadata": {},
   "source": [
    "# Split training, validation and testing data\n",
    "<p style=\"font-size:20px\">Since you will impelement a many-to-one Recurrent Neural Network model, every input data will have shape [batch_size, num_seq, input_size] and output data will have shape [batch_size, input_size] "
   ]
  },
  {
   "cell_type": "code",
   "execution_count": 5,
   "metadata": {},
   "outputs": [],
   "source": [
    "valid_set_size_percentage = 10\n",
    "test_set_size_percentage = 10\n",
    "def load_data(stock, seq_len):\n",
    "    data_raw = stock.as_matrix() # convert to numpy array\n",
    "    data = []\n",
    "    \n",
    "    # create all possible sequences of length seq_len\n",
    "    for index in range(len(data_raw) - seq_len): \n",
    "        data.append(data_raw[index: index + seq_len])\n",
    "    \n",
    "    data = np.array(data);\n",
    "    valid_set_size = int(np.round(valid_set_size_percentage/100*data.shape[0]));  \n",
    "    test_set_size = int(np.round(test_set_size_percentage/100*data.shape[0]));\n",
    "    train_set_size = data.shape[0] - (valid_set_size + test_set_size);\n",
    "    \n",
    "    x_train = data[:train_set_size,:-1,:]\n",
    "    y_train = data[:train_set_size,-1,:]\n",
    "    \n",
    "    x_valid = data[train_set_size:train_set_size+valid_set_size,:-1,:]\n",
    "    y_valid = data[train_set_size:train_set_size+valid_set_size,-1,:]\n",
    "    \n",
    "    x_test = data[train_set_size+valid_set_size:,:-1,:]\n",
    "    y_test = data[train_set_size+valid_set_size:,-1,:]\n",
    "    \n",
    "    return [x_train, y_train, x_valid, y_valid, x_test, y_test]"
   ]
  },
  {
   "cell_type": "code",
   "execution_count": 6,
   "metadata": {},
   "outputs": [
    {
     "name": "stderr",
     "output_type": "stream",
     "text": [
      "/anaconda2/envs/practicalnn_course/lib/python3.7/site-packages/ipykernel_launcher.py:4: FutureWarning: Method .as_matrix will be removed in a future version. Use .values instead.\n",
      "  after removing the cwd from sys.path.\n"
     ]
    }
   ],
   "source": [
    "seq_len = 20 # choose sequence length\n",
    "x_train, y_train, x_valid, y_valid, x_test, y_test = load_data(df1, seq_len)"
   ]
  },
  {
   "cell_type": "code",
   "execution_count": 7,
   "metadata": {},
   "outputs": [
    {
     "name": "stderr",
     "output_type": "stream",
     "text": [
      "/anaconda2/envs/practicalnn_course/lib/python3.7/site-packages/ipykernel_launcher.py:4: FutureWarning: Method .as_matrix will be removed in a future version. Use .values instead.\n",
      "  after removing the cwd from sys.path.\n"
     ]
    }
   ],
   "source": [
    "x_train, y_train, x_valid, y_valid, x_test, y_test = load_data(df2, seq_len)"
   ]
  },
  {
   "cell_type": "code",
   "execution_count": 12,
   "metadata": {},
   "outputs": [
    {
     "name": "stderr",
     "output_type": "stream",
     "text": [
      "/anaconda2/envs/practicalnn_course/lib/python3.7/site-packages/ipykernel_launcher.py:4: FutureWarning: Method .as_matrix will be removed in a future version. Use .values instead.\n",
      "  after removing the cwd from sys.path.\n"
     ]
    }
   ],
   "source": [
    "x_train, y_train, x_valid, y_valid, x_test, y_test = load_data(df3, seq_len)"
   ]
  },
  {
   "cell_type": "code",
   "execution_count": 8,
   "metadata": {},
   "outputs": [
    {
     "name": "stdout",
     "output_type": "stream",
     "text": [
      "x_train.shape =  (2946, 19, 1)\n",
      "y_train.shape =  (2946, 1)\n",
      "x_valid.shape =  (368, 19, 1)\n",
      "y_valid.shape =  (368, 1)\n",
      "x_test.shape =  (368, 19, 1)\n",
      "y_test.shape =  (368, 1)\n"
     ]
    }
   ],
   "source": [
    "print('x_train.shape = ',x_train.shape)\n",
    "print('y_train.shape = ', y_train.shape)\n",
    "print('x_valid.shape = ',x_valid.shape)\n",
    "print('y_valid.shape = ', y_valid.shape)\n",
    "print('x_test.shape = ', x_test.shape)\n",
    "print('y_test.shape = ',y_test.shape)"
   ]
  },
  {
   "cell_type": "markdown",
   "metadata": {},
   "source": [
    "# TesnorFlow Model"
   ]
  },
  {
   "cell_type": "code",
   "execution_count": 13,
   "metadata": {},
   "outputs": [],
   "source": [
    "index_in_epoch = 0;\n",
    "perm_array  = np.arange(x_train.shape[0])\n",
    "np.random.shuffle(perm_array)\n",
    "\n",
    "# function to get the next batch\n",
    "def get_next_batch(batch_size):\n",
    "    global index_in_epoch, x_train, perm_array   \n",
    "    start = index_in_epoch\n",
    "    index_in_epoch += batch_size\n",
    "    \n",
    "    if index_in_epoch > x_train.shape[0]:\n",
    "        np.random.shuffle(perm_array) # shuffle permutation array\n",
    "        start = 0 # start next epoch\n",
    "        index_in_epoch = batch_size\n",
    "        \n",
    "    end = index_in_epoch\n",
    "    return x_train[perm_array[start:end]], y_train[perm_array[start:end]]\n",
    "\n",
    "# parameters\n",
    "n_steps = seq_len-1 \n",
    "n_inputs = 1 \n",
    "n_neurons = 200 \n",
    "n_outputs = 1\n",
    "n_layers = 2\n",
    "learning_rate = 0.001\n",
    "batch_size = 20\n",
    "n_epochs = 20 \n",
    "train_set_size = x_train.shape[0]\n",
    "test_set_size = x_test.shape[0]\n",
    "\n",
    "tf.reset_default_graph()\n",
    "\n",
    "X = tf.placeholder(tf.float32, [None, n_steps, n_inputs])\n",
    "y = tf.placeholder(tf.float32, [None, n_outputs])\n",
    "\n",
    "# use Basic RNN Cell\n",
    "layers = [tf.contrib.rnn.BasicRNNCell(num_units=n_neurons, activation=tf.nn.elu)\n",
    "          for layer in range(n_layers)]\n",
    "\n",
    "multi_layer_cell = tf.contrib.rnn.MultiRNNCell(layers)\n",
    "rnn_outputs, states = tf.nn.dynamic_rnn(multi_layer_cell, X, dtype=tf.float32)\n",
    "\n",
    "stacked_rnn_outputs = tf.reshape(rnn_outputs, [-1, n_neurons]) \n",
    "stacked_outputs = tf.layers.dense(stacked_rnn_outputs, n_outputs)\n",
    "outputs = tf.reshape(stacked_outputs, [-1, n_steps, n_outputs])\n",
    "outputs = outputs[:,n_steps-1,:] # keep only last output of sequence\n",
    "                                              \n",
    "loss = tf.reduce_mean(tf.square(outputs - y)) # loss function = mean squared error \n",
    "optimizer = tf.train.AdamOptimizer(learning_rate=learning_rate) \n",
    "training_op = optimizer.minimize(loss)\n",
    "                                              \n"
   ]
  },
  {
   "cell_type": "markdown",
   "metadata": {},
   "source": [
    "# Training"
   ]
  },
  {
   "cell_type": "code",
   "execution_count": 14,
   "metadata": {},
   "outputs": [
    {
     "name": "stdout",
     "output_type": "stream",
     "text": [
      "0.00 epochs: MSE train/valid = 0.064147/0.153683\n",
      "5.00 epochs: MSE train/valid = 0.000019/0.000143\n",
      "10.00 epochs: MSE train/valid = 0.000015/0.000031\n",
      "15.00 epochs: MSE train/valid = 0.000013/0.000036\n"
     ]
    }
   ],
   "source": [
    "# run graph\n",
    "with tf.Session() as sess: \n",
    "    sess.run(tf.global_variables_initializer())\n",
    "    for iteration in range(int(n_epochs*train_set_size/batch_size)):\n",
    "        x_batch, y_batch = get_next_batch(batch_size) # fetch the next training batch \n",
    "        sess.run(training_op, feed_dict={X: x_batch, y: y_batch}) \n",
    "        if iteration % int(5*train_set_size/batch_size) == 0:\n",
    "            mse_train = loss.eval(feed_dict={X: x_train, y: y_train}) \n",
    "            mse_valid = loss.eval(feed_dict={X: x_valid, y: y_valid}) \n",
    "            print('%.2f epochs: MSE train/valid = %.6f/%.6f'%(\n",
    "                iteration*batch_size/train_set_size, mse_train, mse_valid))\n",
    "\n",
    "    y_train_pred = sess.run(outputs, feed_dict={X: x_train})\n",
    "    y_valid_pred = sess.run(outputs, feed_dict={X: x_valid})\n",
    "    y_test_pred = sess.run(outputs, feed_dict={X: x_test})"
   ]
  },
  {
   "cell_type": "code",
   "execution_count": 22,
   "metadata": {},
   "outputs": [],
   "source": [
    "np.savetxt('y_test_pred_TSLA',y_test_pred,delimiter=',')\n",
    "np.savetxt('y_train_pred_TSLA',y_train_pred,delimiter=',')\n",
    "np.savetxt('y_test_TSLA',y_test,delimiter=',')\n",
    "np.savetxt('y_train_TSLA',y_train,delimiter=',')"
   ]
  },
  {
   "cell_type": "code",
   "execution_count": 11,
   "metadata": {},
   "outputs": [],
   "source": [
    "np.savetxt('y_test_pred_GOOGL',y_test_pred,delimiter=',')\n",
    "np.savetxt('y_train_pred_GOOGL',y_train_pred,delimiter=',')\n",
    "np.savetxt('y_test_GOOGL',y_test,delimiter=',')\n",
    "np.savetxt('y_train_GOOGL',y_train,delimiter=',')"
   ]
  },
  {
   "cell_type": "code",
   "execution_count": 15,
   "metadata": {},
   "outputs": [],
   "source": [
    "np.savetxt('y_test_pred_DJI',y_test_pred,delimiter=',')\n",
    "np.savetxt('y_train_pred_DJI',y_train_pred,delimiter=',')\n",
    "np.savetxt('y_test_DJI',y_test,delimiter=',')\n",
    "np.savetxt('y_train_DJI',y_train,delimiter=',')"
   ]
  },
  {
   "cell_type": "markdown",
   "metadata": {},
   "source": [
    "# Testing"
   ]
  },
  {
   "cell_type": "code",
   "execution_count": 3,
   "metadata": {},
   "outputs": [],
   "source": [
    "y_test_pred_t=np.loadtxt('y_test_pred_TSLA',delimiter=',')\n",
    "y_train_pred_t=np.loadtxt('y_train_pred_TSLA',delimiter=',')\n",
    "y_test_t=np.loadtxt('y_test_TSLA',delimiter=',')\n",
    "y_train_t=np.loadtxt('y_train_TSLA',delimiter=',')"
   ]
  },
  {
   "cell_type": "code",
   "execution_count": 4,
   "metadata": {},
   "outputs": [
    {
     "data": {
      "image/png": "[encoded data removed]",
      "text/plain": [
       "<Figure size 432x288 with 1 Axes>"
      ]
     },
     "metadata": {
      "needs_background": "light"
     },
     "output_type": "display_data"
    }
   ],
   "source": [
    "plt.plot(np.arange(y_train_t.shape[0], y_train_t.shape[0]+y_test_t.shape[0]),\n",
    "         y_test_t, color='black', label='test target')\n",
    "\n",
    "plt.plot(np.arange(y_train_pred_t.shape[0], y_train_pred_t.shape[0]+y_test_pred_t.shape[0]),\n",
    "         y_test_pred_t, color='green', label='test prediction')\n",
    "\n",
    "plt.title('future stock prices')\n",
    "plt.xlabel('time [days]')\n",
    "plt.ylabel('normalized price')\n",
    "plt.legend(loc='best');"
   ]
  },
  {
   "cell_type": "code",
   "execution_count": null,
   "metadata": {},
   "outputs": [],
   "source": [
    "y_test_pred_t=np.loadtxt('y_test_pred_GOOGL',delimiter=',')\n",
    "y_train_pred_t=np.loadtxt('y_train_pred_GOOGL',delimiter=',')\n",
    "y_test_t=np.loadtxt('y_test_GOOGL',delimiter=',')\n",
    "y_train_t=np.loadtxt('y_train_GOOGL',delimiter=',')"
   ]
  },
  {
   "cell_type": "code",
   "execution_count": null,
   "metadata": {},
   "outputs": [],
   "source": [
    "y_test_pred_t=np.loadtxt('y_test_pred_DJI',delimiter=',')\n",
    "y_train_pred_t=np.loadtxt('y_train_pred_DJI',delimiter=',')\n",
    "y_test_t=np.loadtxt('y_test_DJI',delimiter=',')\n",
    "y_train_t=np.loadtxt('y_train_DJI',delimiter=',')"
   ]
  }
 ],
 "metadata": {
  "kernelspec": {
   "display_name": "Python 3",
   "language": "python",
   "name": "python3"
  },
  "language_info": {
   "codemirror_mode": {
    "name": "ipython",
    "version": 3
   },
   "file_extension": ".py",
   "mimetype": "text/x-python",
   "name": "python",
   "nbconvert_exporter": "python",
   "pygments_lexer": "ipython3",
   "version": "3.7.3"
  }
 },
 "nbformat": 4,
 "nbformat_minor": 2
}
