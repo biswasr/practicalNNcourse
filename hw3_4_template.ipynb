{
 "cells": [
  {
   "cell_type": "code",
   "execution_count": 1,
   "metadata": {},
   "outputs": [
    {
     "data": {
      "text/html": [
       "<style>.container { width:100% !important; }</style>"
      ],
      "text/plain": [
       "<IPython.core.display.HTML object>"
      ]
     },
     "metadata": {},
     "output_type": "display_data"
    }
   ],
   "source": [
    "from IPython.core.display import display, HTML\n",
    "display(HTML(\"<style>.container { width:100% !important; }</style>\"))"
   ]
  },
  {
   "cell_type": "code",
   "execution_count": 2,
   "metadata": {},
   "outputs": [],
   "source": [
    "import tensorflow as tf\n",
    "import time\n",
    "import os\n",
    "from six.moves import cPickle\n",
    "from text_utils import TextLoader\n",
    "from tensorflow.contrib import rnn\n",
    "from char_rnn_model import Model\n",
    "import argparse"
   ]
  },
  {
   "cell_type": "markdown",
   "metadata": {},
   "source": [
    "# Define directories, hyperparameter"
   ]
  },
  {
   "cell_type": "code",
   "execution_count": 3,
   "metadata": {},
   "outputs": [],
   "source": [
    "parser = argparse.ArgumentParser(formatter_class=argparse.ArgumentDefaultsHelpFormatter)\n",
    "# Data and model checkpoints directories\n",
    "parser.add_argument('--data_dir', type=str, default='')\n",
    "parser.add_argument('--save_dir', type=str, default='save')\n",
    "parser.add_argument('--log_dir', type=str, default='logs')\n",
    "parser.add_argument('--save_every', type=int, default=1000)\n",
    "parser.add_argument('--init_from', type=str, default=None)\n",
    "# Model params\n",
    "parser.add_argument('--model', type=str, default='lstm')\n",
    "parser.add_argument('--rnn_size', type=int, default=64)\n",
    "parser.add_argument('--num_layers', type=int, default=2)\n",
    "# Optimization\n",
    "parser.add_argument('--seq_length', type=int, default=50)\n",
    "parser.add_argument('--batch_size', type=int, default=20)\n",
    "parser.add_argument('--num_epochs', type=int, default=20)\n",
    "parser.add_argument('--grad_clip', type=float, default=5.)\n",
    "parser.add_argument('--learning_rate', type=float, default=0.002)\n",
    "parser.add_argument('--decay_rate', type=float, default=0.97)\n",
    "parser.add_argument('--output_keep_prob', type=float, default=1.0)\n",
    "parser.add_argument('--input_keep_prob', type=float, default=1.0)\n",
    "args, unknown = parser.parse_known_args()"
   ]
  },
  {
   "cell_type": "markdown",
   "metadata": {},
   "source": [
    "# Load data using TextLoader object"
   ]
  },
  {
   "cell_type": "code",
   "execution_count": 4,
   "metadata": {},
   "outputs": [
    {
     "name": "stdout",
     "output_type": "stream",
     "text": [
      "loading preprocessed files\n"
     ]
    }
   ],
   "source": [
    "data_loader = TextLoader(args.data_dir, args.batch_size, args.seq_length)\n",
    "args.vocab_size = data_loader.vocab_size"
   ]
  },
  {
   "cell_type": "markdown",
   "metadata": {},
   "source": [
    "# Create your model object"
   ]
  },
  {
   "cell_type": "code",
   "execution_count": 5,
   "metadata": {},
   "outputs": [
    {
     "name": "stdout",
     "output_type": "stream",
     "text": [
      "WARNING:tensorflow:From /Users/rahulbiswas/Documents/practical_nn/char_rnn_model.py:65: LSTMCell.__init__ (from tensorflow.python.ops.rnn_cell_impl) is deprecated and will be removed in a future version.\n",
      "Instructions for updating:\n",
      "This class is equivalent as tf.keras.layers.LSTMCell, and will be replaced by that in Tensorflow 2.0.\n",
      "WARNING:tensorflow:From /Users/rahulbiswas/Documents/practical_nn/char_rnn_model.py:71: MultiRNNCell.__init__ (from tensorflow.python.ops.rnn_cell_impl) is deprecated and will be removed in a future version.\n",
      "Instructions for updating:\n",
      "This class is equivalent as tf.keras.layers.StackedRNNCells, and will be replaced by that in Tensorflow 2.0.\n",
      "WARNING:tensorflow:From /anaconda2/envs/practicalnn_course/lib/python3.7/site-packages/tensorflow/python/framework/op_def_library.py:263: colocate_with (from tensorflow.python.framework.ops) is deprecated and will be removed in a future version.\n",
      "Instructions for updating:\n",
      "Colocations handled automatically by placer.\n",
      "WARNING:tensorflow:From /Users/rahulbiswas/Documents/practical_nn/char_rnn_model.py:92: calling dropout (from tensorflow.python.ops.nn_ops) with keep_prob is deprecated and will be removed in a future version.\n",
      "Instructions for updating:\n",
      "Please use `rate` instead of `keep_prob`. Rate should be set to `rate = 1 - keep_prob`.\n",
      "WARNING:tensorflow:From /anaconda2/envs/practicalnn_course/lib/python3.7/site-packages/tensorflow/python/ops/array_grad.py:425: to_int32 (from tensorflow.python.ops.math_ops) is deprecated and will be removed in a future version.\n",
      "Instructions for updating:\n",
      "Use tf.cast instead.\n"
     ]
    }
   ],
   "source": [
    "model = Model(args)"
   ]
  },
  {
   "cell_type": "markdown",
   "metadata": {},
   "source": [
    "# Training"
   ]
  },
  {
   "cell_type": "code",
   "execution_count": null,
   "metadata": {},
   "outputs": [],
   "source": [
    "with tf.Session() as sess:\n",
    "    # instrument for tensorboard\n",
    "    summaries = tf.summary.merge_all()\n",
    "    writer = tf.summary.FileWriter(\n",
    "            os.path.join(args.log_dir, time.strftime(\"%Y-%m-%d-%H-%M-%S\")))\n",
    "    writer.add_graph(sess.graph)\n",
    "\n",
    "    sess.run(tf.global_variables_initializer())\n",
    "    saver = tf.train.Saver(tf.global_variables())\n",
    "    # restore model\n",
    "    if args.init_from is not None:\n",
    "        saver.restore(sess, ckpt)\n",
    "    for e in range(args.num_epochs):\n",
    "        sess.run(tf.assign(model.lr,\n",
    "                           args.learning_rate * (args.decay_rate ** e)))\n",
    "        data_loader.reset_batch_pointer()\n",
    "        state = sess.run(model.initial_state)\n",
    "        for b in range(data_loader.num_batches):\n",
    "            start = time.time()\n",
    "            x, y = data_loader.next_batch()\n",
    "            feed = {model.input_data: x, model.targets: y}\n",
    "            for i, (c, h) in enumerate(model.initial_state):\n",
    "                feed[c] = state[i].c\n",
    "                feed[h] = state[i].h\n",
    "\n",
    "            # instrument for tensorboard\n",
    "            summ, train_loss, state, _ = sess.run([summaries, model.cost, model.final_state, model.train_op], feed)\n",
    "            writer.add_summary(summ, e * data_loader.num_batches + b)\n",
    "\n",
    "            end = time.time()\n",
    "            print(\"{}/{} (epoch {}), train_loss = {:.3f}, time/batch = {:.3f}\"\n",
    "                  .format(e * data_loader.num_batches + b,\n",
    "                          args.num_epochs * data_loader.num_batches,\n",
    "                          e, train_loss, end - start))\n",
    "            if (e * data_loader.num_batches + b) % args.save_every == 0\\\n",
    "                    or (e == args.num_epochs-1 and\n",
    "                        b == data_loader.num_batches-1):\n",
    "                # save for the last result\n",
    "                checkpoint_path = os.path.join(args.save_dir, 'model.ckpt')\n",
    "                saver.save(sess, checkpoint_path,\n",
    "                           global_step=e * data_loader.num_batches + b)\n",
    "                print(\"model saved to {}\".format(checkpoint_path))"
   ]
  },
  {
   "cell_type": "markdown",
   "metadata": {},
   "source": [
    "# Generating Text"
   ]
  },
  {
   "cell_type": "code",
   "execution_count": null,
   "metadata": {},
   "outputs": [],
   "source": []
  }
 ],
 "metadata": {
  "kernelspec": {
   "display_name": "Python 3",
   "language": "python",
   "name": "python3"
  },
  "language_info": {
   "codemirror_mode": {
    "name": "ipython",
    "version": 3
   },
   "file_extension": ".py",
   "mimetype": "text/x-python",
   "name": "python",
   "nbconvert_exporter": "python",
   "pygments_lexer": "ipython3",
   "version": "3.7.3"
  }
 },
 "nbformat": 4,
 "nbformat_minor": 2
}
