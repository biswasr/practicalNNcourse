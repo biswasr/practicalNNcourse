{
 "cells": [
  {
   "cell_type": "code",
   "execution_count": 15,
   "metadata": {},
   "outputs": [],
   "source": [
    "import pickle\n",
    "import numpy as np\n",
    "import matplotlib.pyplot as plt\n",
    "from sklearn.preprocessing import OneHotEncoder"
   ]
  },
  {
   "cell_type": "code",
   "execution_count": 16,
   "metadata": {},
   "outputs": [],
   "source": [
    "def load_cifar_file(file):\n",
    "    import pickle\n",
    "    with open(file, 'rb') as fo:\n",
    "        dict = pickle.load(fo, encoding='bytes')\n",
    "    return dict"
   ]
  },
  {
   "cell_type": "code",
   "execution_count": 17,
   "metadata": {},
   "outputs": [],
   "source": [
    "def features_reshape(feature_matrix):\n",
    "    return np.reshape(feature_matrix,(10000,3,32,32)).transpose(0, 2, 3, 1)"
   ]
  },
  {
   "cell_type": "code",
   "execution_count": 18,
   "metadata": {},
   "outputs": [],
   "source": [
    "def preprocess_data(folder_path):\n",
    "    data_train=[]\n",
    "    features_train=[]\n",
    "    labels_train=[]\n",
    "    for i in range(1,6):\n",
    "        data_train.append(load_cifar_file(folder_path+'/cifar-10-batches-py/data_batch_'+str(i)))\n",
    "        features_train.append(data_train[i-1][b'data'])\n",
    "        labels_train.append(data_train[i-1][b'labels'])\n",
    "    data_test=load_cifar_file('Downloads/cifar-10-batches-py/test_batch')\n",
    "    features_test = data_test[b'data']\n",
    "    lab_test = data_test[b'labels']\n",
    "    \n",
    "    features_rs=[]\n",
    "    for i in range(5):\n",
    "        features_rs.append(features_reshape(features_train[i]))\n",
    "    labels=labels_train\n",
    "    features_test=features_reshape(features_test)\n",
    "    \n",
    "    features_rs_train=[]\n",
    "    features_rs_valid=[]\n",
    "    labels_train=[]\n",
    "    labels_valid=[]\n",
    "    for idx,feat in enumerate(features_rs):\n",
    "        features_rs_train.append(minmaxNormalize(feat[:2000]))\n",
    "        features_rs_valid.append(minmaxNormalize(feat[2000:]))\n",
    "    features_rs_test=minmaxNormalize(features_test)\n",
    "    for idx in range(len(labels)):\n",
    "        lab=labels[idx]\n",
    "        labels_train.append(onehotLabels(lab[:2000]))\n",
    "        labels_valid.append(onehotLabels(lab[2000:]))\n",
    "    labels_test=onehotLabels(lab_test)\n",
    "    \n",
    "    with open('features_train.pkl', 'wb') as f:\n",
    "        pickle.dump(features_rs_train, f)\n",
    "    with open('features_valid.pkl', 'wb') as f:\n",
    "        pickle.dump(features_rs_valid, f)\n",
    "    with open('features_test.pkl', 'wb') as f:\n",
    "        pickle.dump(features_rs_test, f)\n",
    "    with open('labels_train.pkl', 'wb') as f:\n",
    "        pickle.dump(labels_train, f)\n",
    "    with open('labels_valid.pkl', 'wb') as f:\n",
    "        pickle.dump(labels_valid, f)\n",
    "    with open('labels_test.pkl', 'wb') as f:\n",
    "        pickle.dump(labels_test, f)"
   ]
  },
  {
   "cell_type": "code",
   "execution_count": 19,
   "metadata": {},
   "outputs": [],
   "source": [
    "#min-max normalization\n",
    "def minmaxNormalize(feature_mat_list):\n",
    "    for i in range(len(feature_mat_list)):\n",
    "        feature_mat_list[i]=(feature_mat_list[i]-np.amin(feature_mat_list[i]))/(np.amax(feature_mat_list[i])-np.amin(feature_mat_list[i]))\n",
    "    return feature_mat_list"
   ]
  },
  {
   "cell_type": "code",
   "execution_count": 20,
   "metadata": {},
   "outputs": [],
   "source": [
    "def onehotLabels(lab):\n",
    "    enc=OneHotEncoder(handle_unknown='ignore')\n",
    "    enc.fit(np.asarray(lab).reshape(-1,1))\n",
    "    lab_onehot=enc.transform(np.asarray(lab).reshape(-1,1))\n",
    "    return lab_onehot"
   ]
  },
  {
   "cell_type": "code",
   "execution_count": null,
   "metadata": {},
   "outputs": [],
   "source": []
  },
  {
   "cell_type": "code",
   "execution_count": null,
   "metadata": {},
   "outputs": [],
   "source": []
  },
  {
   "cell_type": "code",
   "execution_count": null,
   "metadata": {},
   "outputs": [],
   "source": []
  }
 ],
 "metadata": {
  "kernelspec": {
   "display_name": "Python 3",
   "language": "python",
   "name": "python3"
  },
  "language_info": {
   "codemirror_mode": {
    "name": "ipython",
    "version": 3
   },
   "file_extension": ".py",
   "mimetype": "text/x-python",
   "name": "python",
   "nbconvert_exporter": "python",
   "pygments_lexer": "ipython3",
   "version": "3.7.3"
  }
 },
 "nbformat": 4,
 "nbformat_minor": 2
}
